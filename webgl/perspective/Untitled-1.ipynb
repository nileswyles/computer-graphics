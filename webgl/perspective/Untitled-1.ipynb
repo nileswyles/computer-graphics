{
 "cells": [
  {
   "cell_type": "code",
   "execution_count": null,
   "metadata": {},
   "outputs": [],
   "source": [
    "import math\n",
    "\n",
    "# square - top right\n",
    "point = (0.7, 0.7)\n",
    "\n",
    "def rotate(point, deg):\n",
    "    deg = deg/180 * math.PI\n",
    "    rotation_vector = (point[0]*math.cos(deg)-point[1]*math.sin(deg), point[0]*math.sin(deg)+point[1]*math.cos(deg))\n",
    "    print(rotation_vector)\n",
    "    return (rotation_vector[0] + point[0], rotation_vector[1] + point[1])\n",
    "\n",
    "print(rotate(point, 90))"
   ]
  }
 ],
 "metadata": {
  "kernelspec": {
   "display_name": "Python 3",
   "language": "python",
   "name": "python3"
  },
  "language_info": {
   "name": "python",
   "version": "3.11.9"
  }
 },
 "nbformat": 4,
 "nbformat_minor": 2
}
